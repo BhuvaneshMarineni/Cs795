{
 "cells": [
  {
   "cell_type": "code",
   "execution_count": 4,
   "metadata": {},
   "outputs": [
    {
     "name": "stdout",
     "output_type": "stream",
     "text": [
      "Defaulting to user installation because normal site-packages is not writeable\n",
      "Collecting pandas\n",
      "  Downloading pandas-2.2.2-cp39-cp39-macosx_11_0_arm64.whl (11.3 MB)\n",
      "\u001b[K     |████████████████████████████████| 11.3 MB 6.9 MB/s eta 0:00:01\n",
      "\u001b[?25hCollecting pytz>=2020.1\n",
      "  Using cached pytz-2024.1-py2.py3-none-any.whl (505 kB)\n",
      "Collecting tzdata>=2022.7\n",
      "  Using cached tzdata-2024.1-py2.py3-none-any.whl (345 kB)\n",
      "Collecting numpy>=1.22.4\n",
      "  Downloading numpy-1.26.4-cp39-cp39-macosx_11_0_arm64.whl (14.0 MB)\n",
      "\u001b[K     |████████████████████████████████| 14.0 MB 48.6 MB/s eta 0:00:01\n",
      "\u001b[?25hRequirement already satisfied: python-dateutil>=2.8.2 in /Users/bhuvaneshmarineni/Library/Python/3.9/lib/python/site-packages (from pandas) (2.8.2)\n",
      "Requirement already satisfied: six>=1.5 in /Applications/Xcode.app/Contents/Developer/Library/Frameworks/Python3.framework/Versions/3.9/lib/python3.9/site-packages (from python-dateutil>=2.8.2->pandas) (1.15.0)\n",
      "Installing collected packages: tzdata, pytz, numpy, pandas\n",
      "Successfully installed numpy-1.26.4 pandas-2.2.2 pytz-2024.1 tzdata-2024.1\n",
      "\u001b[33mWARNING: You are using pip version 21.2.4; however, version 24.0 is available.\n",
      "You should consider upgrading via the '/Applications/Xcode.app/Contents/Developer/usr/bin/python3 -m pip install --upgrade pip' command.\u001b[0m\n",
      "Note: you may need to restart the kernel to use updated packages.\n"
     ]
    }
   ],
   "source": [
    "pip install pandas "
   ]
  },
  {
   "cell_type": "code",
   "execution_count": 5,
   "metadata": {},
   "outputs": [],
   "source": [
    "import pandas as pd\n",
    "\n",
    "# Read CSV files\n",
    "file1 = pd.read_csv('/Users/bhuvaneshmarineni/Downloads/Intersteller.csv')\n",
    "file2 = pd.read_csv('/Users/bhuvaneshmarineni/Downloads/Inception.csv')\n",
    "file3 = pd.read_csv('/Users/bhuvaneshmarineni/Downloads/Dunkirk.csv')\n",
    "file4 = pd.read_csv('/Users/bhuvaneshmarineni/Downloads/Tenet.csv')\n",
    "file5 = pd.read_csv('/Users/bhuvaneshmarineni/Downloads/The Dark Knight Rises.csv')\n",
    "\n",
    "# Merge the CSV files into one DataFrame\n",
    "merged_data = pd.concat([file1, file2, file3, file4, file5], ignore_index=True)\n",
    "\n",
    "# Write the merged data to a new CSV file\n",
    "merged_data.to_csv(\"merged_file.csv\", index=False)\n"
   ]
  },
  {
   "cell_type": "code",
   "execution_count": 10,
   "metadata": {},
   "outputs": [
    {
     "name": "stdout",
     "output_type": "stream",
     "text": [
      "2096 1738 694 1872 1911\n",
      "8311\n"
     ]
    }
   ],
   "source": [
    "a= len(file1)\n",
    "b =len(file2)\n",
    "c =len(file3)\n",
    "d= len(file4)\n",
    "e =len(file5)\n",
    "print(a,b,c,d,e)\n",
    "final = a+b+c+d+e\n",
    "print(final)"
   ]
  },
  {
   "cell_type": "code",
   "execution_count": 11,
   "metadata": {},
   "outputs": [],
   "source": [
    "df =pd.read_csv(\"merged_file.csv\")"
   ]
  },
  {
   "cell_type": "code",
   "execution_count": 12,
   "metadata": {},
   "outputs": [
    {
     "data": {
      "text/html": [
       "<div>\n",
       "<style scoped>\n",
       "    .dataframe tbody tr th:only-of-type {\n",
       "        vertical-align: middle;\n",
       "    }\n",
       "\n",
       "    .dataframe tbody tr th {\n",
       "        vertical-align: top;\n",
       "    }\n",
       "\n",
       "    .dataframe thead th {\n",
       "        text-align: right;\n",
       "    }\n",
       "</style>\n",
       "<table border=\"1\" class=\"dataframe\">\n",
       "  <thead>\n",
       "    <tr style=\"text-align: right;\">\n",
       "      <th></th>\n",
       "      <th>Start Time</th>\n",
       "      <th>End Time</th>\n",
       "      <th>Subtitle</th>\n",
       "    </tr>\n",
       "  </thead>\n",
       "  <tbody>\n",
       "    <tr>\n",
       "      <th>0</th>\n",
       "      <td>00:01:14:22</td>\n",
       "      <td>00:01:16:24</td>\n",
       "      <td>MURPH: Well, my dad was a farmer.</td>\n",
       "    </tr>\n",
       "    <tr>\n",
       "      <th>1</th>\n",
       "      <td>00:01:18:04</td>\n",
       "      <td>00:01:20:15</td>\n",
       "      <td>Um, like everybody else back then.</td>\n",
       "    </tr>\n",
       "    <tr>\n",
       "      <th>2</th>\n",
       "      <td>00:01:22:18</td>\n",
       "      <td>00:01:24:22</td>\n",
       "      <td>Of course, he didn't start that way.</td>\n",
       "    </tr>\n",
       "    <tr>\n",
       "      <th>3</th>\n",
       "      <td>00:01:25:12</td>\n",
       "      <td>00:01:27:11</td>\n",
       "      <td>(DISTANT RUMBLING)</td>\n",
       "    </tr>\n",
       "    <tr>\n",
       "      <th>4</th>\n",
       "      <td>00:01:30:00</td>\n",
       "      <td>00:01:31:01</td>\n",
       "      <td>(ALARM BEEPING)</td>\n",
       "    </tr>\n",
       "    <tr>\n",
       "      <th>...</th>\n",
       "      <td>...</td>\n",
       "      <td>...</td>\n",
       "      <td>...</td>\n",
       "    </tr>\n",
       "    <tr>\n",
       "      <th>8306</th>\n",
       "      <td>02:34:57:09</td>\n",
       "      <td>02:34:58:23</td>\n",
       "      <td>Check the ID on the patch.</td>\n",
       "    </tr>\n",
       "    <tr>\n",
       "      <th>8307</th>\n",
       "      <td>02:35:02:01</td>\n",
       "      <td>02:35:03:16</td>\n",
       "      <td>Bruce Wayne.</td>\n",
       "    </tr>\n",
       "    <tr>\n",
       "      <th>8308</th>\n",
       "      <td>02:35:04:12</td>\n",
       "      <td>02:35:06:20</td>\n",
       "      <td>#NAME?</td>\n",
       "    </tr>\n",
       "    <tr>\n",
       "      <th>8309</th>\n",
       "      <td>02:35:06:23</td>\n",
       "      <td>02:35:08:10</td>\n",
       "      <td>They better leave no stone unturned.</td>\n",
       "    </tr>\n",
       "    <tr>\n",
       "      <th>8310</th>\n",
       "      <td>02:35:08:14</td>\n",
       "      <td>02:35:11:24</td>\n",
       "      <td>We can't leave a string of pearls on the manif...</td>\n",
       "    </tr>\n",
       "  </tbody>\n",
       "</table>\n",
       "<p>8311 rows × 3 columns</p>\n",
       "</div>"
      ],
      "text/plain": [
       "       Start Time     End Time  \\\n",
       "0     00:01:14:22  00:01:16:24   \n",
       "1     00:01:18:04  00:01:20:15   \n",
       "2     00:01:22:18  00:01:24:22   \n",
       "3     00:01:25:12  00:01:27:11   \n",
       "4     00:01:30:00  00:01:31:01   \n",
       "...           ...          ...   \n",
       "8306  02:34:57:09  02:34:58:23   \n",
       "8307  02:35:02:01  02:35:03:16   \n",
       "8308  02:35:04:12  02:35:06:20   \n",
       "8309  02:35:06:23  02:35:08:10   \n",
       "8310  02:35:08:14  02:35:11:24   \n",
       "\n",
       "                                               Subtitle  \n",
       "0                     MURPH: Well, my dad was a farmer.  \n",
       "1                    Um, like everybody else back then.  \n",
       "2                  Of course, he didn't start that way.  \n",
       "3                                    (DISTANT RUMBLING)  \n",
       "4                                       (ALARM BEEPING)  \n",
       "...                                                 ...  \n",
       "8306                         Check the ID on the patch.  \n",
       "8307                                       Bruce Wayne.  \n",
       "8308                                             #NAME?  \n",
       "8309               They better leave no stone unturned.  \n",
       "8310  We can't leave a string of pearls on the manif...  \n",
       "\n",
       "[8311 rows x 3 columns]"
      ]
     },
     "execution_count": 12,
     "metadata": {},
     "output_type": "execute_result"
    }
   ],
   "source": [
    "df"
   ]
  },
  {
   "cell_type": "code",
   "execution_count": 13,
   "metadata": {},
   "outputs": [
    {
     "name": "stdout",
     "output_type": "stream",
     "text": [
      "Defaulting to user installation because normal site-packages is not writeable\n",
      "\u001b[31mERROR: Could not find a version that satisfies the requirement random (from versions: none)\u001b[0m\n",
      "\u001b[31mERROR: No matching distribution found for random\u001b[0m\n",
      "\u001b[33mWARNING: You are using pip version 21.2.4; however, version 24.0 is available.\n",
      "You should consider upgrading via the '/Applications/Xcode.app/Contents/Developer/usr/bin/python3 -m pip install --upgrade pip' command.\u001b[0m\n",
      "Note: you may need to restart the kernel to use updated packages.\n"
     ]
    }
   ],
   "source": [
    "pip install random"
   ]
  },
  {
   "cell_type": "code",
   "execution_count": 17,
   "metadata": {},
   "outputs": [
    {
     "name": "stdout",
     "output_type": "stream",
     "text": [
      "       Start Time     End Time  \\\n",
      "0     00:01:14:22  00:01:16:24   \n",
      "1     00:01:18:04  00:01:20:15   \n",
      "2     00:01:22:18  00:01:24:22   \n",
      "3     00:01:25:12  00:01:27:11   \n",
      "4     00:01:30:00  00:01:31:01   \n",
      "...           ...          ...   \n",
      "8306  02:34:57:09  02:34:58:23   \n",
      "8307  02:35:02:01  02:35:03:16   \n",
      "8308  02:35:04:12  02:35:06:20   \n",
      "8309  02:35:06:23  02:35:08:10   \n",
      "8310  02:35:08:14  02:35:11:24   \n",
      "\n",
      "                                               Subtitle    content_type  \\\n",
      "0                     MURPH: Well, my dad was a farmer.         journal   \n",
      "1                    Um, like everybody else back then.          Movies   \n",
      "2                  Of course, he didn't start that way.        magazine   \n",
      "3                                    (DISTANT RUMBLING)       newspaper   \n",
      "4                                       (ALARM BEEPING)  Research Paper   \n",
      "...                                                 ...             ...   \n",
      "8306                         Check the ID on the patch.          Movies   \n",
      "8307                                       Bruce Wayne.      e-commerce   \n",
      "8308                                             #NAME?         journal   \n",
      "8309               They better leave no stone unturned.         journal   \n",
      "8310  We can't leave a string of pearls on the manif...         Podcast   \n",
      "\n",
      "      user_id  \n",
      "0          11  \n",
      "1           6  \n",
      "2           7  \n",
      "3          10  \n",
      "4          11  \n",
      "...       ...  \n",
      "8306       11  \n",
      "8307        3  \n",
      "8308        4  \n",
      "8309       11  \n",
      "8310        1  \n",
      "\n",
      "[8311 rows x 5 columns]\n"
     ]
    }
   ],
   "source": [
    "import pandas as pd\n",
    "import random\n",
    "\n",
    "\n",
    "\n",
    "\n",
    "# Define a list of content types\n",
    "content_types = ['Article', 'Movies', 'Podcast', 'Research Paper','e-commerce','journal','newspaper','magazine']\n",
    "\n",
    "# Assign 'Content Type' column randomly\n",
    "df['content_type'] = [random.choice(content_types) for _ in range(len(df))]\n",
    "\n",
    "# Define a range for User IDs\n",
    "user_ids = list(range(1, 16))  # Creates a list of numbers from 1 to 15\n",
    "\n",
    "# Assign 'User ID' column randomly from the specified range\n",
    "df['user_id'] = [random.choice(user_ids) for _ in range(len(df))]\n",
    "\n",
    "print(df)\n",
    "\n"
   ]
  },
  {
   "cell_type": "code",
   "execution_count": null,
   "metadata": {},
   "outputs": [],
   "source": []
  },
  {
   "cell_type": "code",
   "execution_count": 19,
   "metadata": {},
   "outputs": [],
   "source": [
    "df.to_csv(\"merged_file.csv\", index=False)"
   ]
  },
  {
   "cell_type": "code",
   "execution_count": 21,
   "metadata": {},
   "outputs": [],
   "source": [
    "df = df.drop('Subtitle', axis=1)\n"
   ]
  },
  {
   "cell_type": "code",
   "execution_count": 27,
   "metadata": {},
   "outputs": [],
   "source": [
    "df = pd.read_csv('/Users/bhuvaneshmarineni/Downloads/updated_file_part_1.csv')"
   ]
  },
  {
   "cell_type": "code",
   "execution_count": null,
   "metadata": {},
   "outputs": [],
   "source": []
  },
  {
   "cell_type": "code",
   "execution_count": 28,
   "metadata": {},
   "outputs": [],
   "source": [
    "df = df.drop('Subtitle', axis=1)\n"
   ]
  },
  {
   "cell_type": "code",
   "execution_count": 35,
   "metadata": {},
   "outputs": [
    {
     "data": {
      "text/plain": [
       "Index([' Start Time', 'End Time', 'content_type', 'user_id', 'text_read'], dtype='object')"
      ]
     },
     "execution_count": 35,
     "metadata": {},
     "output_type": "execute_result"
    }
   ],
   "source": [
    "df.columns"
   ]
  },
  {
   "cell_type": "code",
   "execution_count": 39,
   "metadata": {},
   "outputs": [
    {
     "name": "stdout",
     "output_type": "stream",
     "text": [
      "    Start Time  End Time    content_type  user_id  \\\n",
      "0     00:01:14  00:01:17         journal       11   \n",
      "1     00:01:18  00:01:20          Movies        6   \n",
      "2     00:01:22  00:01:24        magazine        7   \n",
      "3     00:01:25  00:01:27       newspaper       10   \n",
      "4     00:01:30  00:01:31  Research Paper       11   \n",
      "..         ...       ...             ...      ...   \n",
      "95    00:06:59  00:07:00      e-commerce        7   \n",
      "96    00:07:02  00:07:03         journal        7   \n",
      "97    00:07:11  00:07:14         Article        9   \n",
      "98    00:07:14  00:07:15       newspaper        1   \n",
      "99    00:07:17  00:07:18         Podcast        3   \n",
      "\n",
      "                                            text_read  \n",
      "0   A journal serves as a personal sanctuary for i...  \n",
      "1   The silver screen's captivating tapestry of mo...  \n",
      "2   Magazines, as vibrant repositories of ideas, p...  \n",
      "3   Newspapers, acting as versatile bastions of in...  \n",
      "4   Research papers serve as valuable contribution...  \n",
      "..                                                ...  \n",
      "95  E-commerce, a rapidly evolving industry, lever...  \n",
      "96  A journal serves as an invaluable repository o...  \n",
      "97  An article, a textual unit within a publicatio...  \n",
      "98  Newspapers, acting as historical chronicles, p...  \n",
      "99  Podcasts have emerged as a transformative medi...  \n",
      "\n",
      "[100 rows x 5 columns]\n"
     ]
    }
   ],
   "source": [
    "import pandas as pd\n",
    "\n",
    "# Sample data loading (replace this with your actual data loading method)\n",
    "# Your data might be loaded here\n",
    "\n",
    "# Define a function to convert HH:MM:SS:FF to HH:MM:SS\n",
    "def convert_time(time_str):\n",
    "    hh, mm, ss, ff = time_str.split(':')\n",
    "    # Assuming 24 frames per second\n",
    "    frame_rate = 24\n",
    "    additional_seconds = int(ff) / frame_rate\n",
    "    total_seconds = int(hh) * 3600 + int(mm) * 60 + int(ss) + additional_seconds\n",
    "    new_hh = int(total_seconds // 3600)\n",
    "    new_mm = int((total_seconds % 3600) // 60)\n",
    "    new_ss = int(total_seconds % 60)\n",
    "    return f\"{new_hh:02}:{new_mm:02}:{new_ss:02}\"\n",
    "\n",
    "# Apply the conversion function to the ' Start Time' and 'End Time' columns\n",
    "# Note the space before 'Start Time'\n",
    "df[' Start Time'] = df[' Start Time'].apply(convert_time)\n",
    "df['End Time'] = df['End Time'].apply(convert_time)\n",
    "\n",
    "# Display the updated DataFrame\n",
    "print(df)\n"
   ]
  },
  {
   "cell_type": "code",
   "execution_count": 40,
   "metadata": {},
   "outputs": [
    {
     "data": {
      "text/html": [
       "<div>\n",
       "<style scoped>\n",
       "    .dataframe tbody tr th:only-of-type {\n",
       "        vertical-align: middle;\n",
       "    }\n",
       "\n",
       "    .dataframe tbody tr th {\n",
       "        vertical-align: top;\n",
       "    }\n",
       "\n",
       "    .dataframe thead th {\n",
       "        text-align: right;\n",
       "    }\n",
       "</style>\n",
       "<table border=\"1\" class=\"dataframe\">\n",
       "  <thead>\n",
       "    <tr style=\"text-align: right;\">\n",
       "      <th></th>\n",
       "      <th>Start Time</th>\n",
       "      <th>End Time</th>\n",
       "      <th>content_type</th>\n",
       "      <th>user_id</th>\n",
       "      <th>text_read</th>\n",
       "    </tr>\n",
       "  </thead>\n",
       "  <tbody>\n",
       "    <tr>\n",
       "      <th>0</th>\n",
       "      <td>00:01:14</td>\n",
       "      <td>00:01:17</td>\n",
       "      <td>journal</td>\n",
       "      <td>11</td>\n",
       "      <td>A journal serves as a personal sanctuary for i...</td>\n",
       "    </tr>\n",
       "    <tr>\n",
       "      <th>1</th>\n",
       "      <td>00:01:18</td>\n",
       "      <td>00:01:20</td>\n",
       "      <td>Movies</td>\n",
       "      <td>6</td>\n",
       "      <td>The silver screen's captivating tapestry of mo...</td>\n",
       "    </tr>\n",
       "    <tr>\n",
       "      <th>2</th>\n",
       "      <td>00:01:22</td>\n",
       "      <td>00:01:24</td>\n",
       "      <td>magazine</td>\n",
       "      <td>7</td>\n",
       "      <td>Magazines, as vibrant repositories of ideas, p...</td>\n",
       "    </tr>\n",
       "    <tr>\n",
       "      <th>3</th>\n",
       "      <td>00:01:25</td>\n",
       "      <td>00:01:27</td>\n",
       "      <td>newspaper</td>\n",
       "      <td>10</td>\n",
       "      <td>Newspapers, acting as versatile bastions of in...</td>\n",
       "    </tr>\n",
       "    <tr>\n",
       "      <th>4</th>\n",
       "      <td>00:01:30</td>\n",
       "      <td>00:01:31</td>\n",
       "      <td>Research Paper</td>\n",
       "      <td>11</td>\n",
       "      <td>Research papers serve as valuable contribution...</td>\n",
       "    </tr>\n",
       "    <tr>\n",
       "      <th>...</th>\n",
       "      <td>...</td>\n",
       "      <td>...</td>\n",
       "      <td>...</td>\n",
       "      <td>...</td>\n",
       "      <td>...</td>\n",
       "    </tr>\n",
       "    <tr>\n",
       "      <th>95</th>\n",
       "      <td>00:06:59</td>\n",
       "      <td>00:07:00</td>\n",
       "      <td>e-commerce</td>\n",
       "      <td>7</td>\n",
       "      <td>E-commerce, a rapidly evolving industry, lever...</td>\n",
       "    </tr>\n",
       "    <tr>\n",
       "      <th>96</th>\n",
       "      <td>00:07:02</td>\n",
       "      <td>00:07:03</td>\n",
       "      <td>journal</td>\n",
       "      <td>7</td>\n",
       "      <td>A journal serves as an invaluable repository o...</td>\n",
       "    </tr>\n",
       "    <tr>\n",
       "      <th>97</th>\n",
       "      <td>00:07:11</td>\n",
       "      <td>00:07:14</td>\n",
       "      <td>Article</td>\n",
       "      <td>9</td>\n",
       "      <td>An article, a textual unit within a publicatio...</td>\n",
       "    </tr>\n",
       "    <tr>\n",
       "      <th>98</th>\n",
       "      <td>00:07:14</td>\n",
       "      <td>00:07:15</td>\n",
       "      <td>newspaper</td>\n",
       "      <td>1</td>\n",
       "      <td>Newspapers, acting as historical chronicles, p...</td>\n",
       "    </tr>\n",
       "    <tr>\n",
       "      <th>99</th>\n",
       "      <td>00:07:17</td>\n",
       "      <td>00:07:18</td>\n",
       "      <td>Podcast</td>\n",
       "      <td>3</td>\n",
       "      <td>Podcasts have emerged as a transformative medi...</td>\n",
       "    </tr>\n",
       "  </tbody>\n",
       "</table>\n",
       "<p>100 rows × 5 columns</p>\n",
       "</div>"
      ],
      "text/plain": [
       "    Start Time  End Time    content_type  user_id  \\\n",
       "0     00:01:14  00:01:17         journal       11   \n",
       "1     00:01:18  00:01:20          Movies        6   \n",
       "2     00:01:22  00:01:24        magazine        7   \n",
       "3     00:01:25  00:01:27       newspaper       10   \n",
       "4     00:01:30  00:01:31  Research Paper       11   \n",
       "..         ...       ...             ...      ...   \n",
       "95    00:06:59  00:07:00      e-commerce        7   \n",
       "96    00:07:02  00:07:03         journal        7   \n",
       "97    00:07:11  00:07:14         Article        9   \n",
       "98    00:07:14  00:07:15       newspaper        1   \n",
       "99    00:07:17  00:07:18         Podcast        3   \n",
       "\n",
       "                                            text_read  \n",
       "0   A journal serves as a personal sanctuary for i...  \n",
       "1   The silver screen's captivating tapestry of mo...  \n",
       "2   Magazines, as vibrant repositories of ideas, p...  \n",
       "3   Newspapers, acting as versatile bastions of in...  \n",
       "4   Research papers serve as valuable contribution...  \n",
       "..                                                ...  \n",
       "95  E-commerce, a rapidly evolving industry, lever...  \n",
       "96  A journal serves as an invaluable repository o...  \n",
       "97  An article, a textual unit within a publicatio...  \n",
       "98  Newspapers, acting as historical chronicles, p...  \n",
       "99  Podcasts have emerged as a transformative medi...  \n",
       "\n",
       "[100 rows x 5 columns]"
      ]
     },
     "execution_count": 40,
     "metadata": {},
     "output_type": "execute_result"
    }
   ],
   "source": [
    "df"
   ]
  },
  {
   "cell_type": "code",
   "execution_count": 41,
   "metadata": {},
   "outputs": [],
   "source": [
    "df.to_csv(\"updated_file.csv\", index=False)"
   ]
  },
  {
   "attachments": {},
   "cell_type": "markdown",
   "metadata": {},
   "source": [
    "# merging new csv"
   ]
  },
  {
   "cell_type": "code",
   "execution_count": 92,
   "metadata": {},
   "outputs": [],
   "source": [
    "file = pd.read_csv('/Users/bhuvaneshmarineni/Downloads/updated_file_part_1.csv')\n",
    "file5 = pd.read_csv('/Users/bhuvaneshmarineni/Downloads/updated_rows_100_to_199.csv')\n",
    "file2 = pd.read_csv('/Users/bhuvaneshmarineni/Downloads/updated_rows_200_to_299.csv')\n",
    "file3 = pd.read_csv('/Users/bhuvaneshmarineni/Downloads/updated_rows_300_to_399.csv')\n",
    "file1 = pd.read_csv('/Users/bhuvaneshmarineni/Downloads/updated_rows_400_to_499.csv')\n",
    "file6 = pd.read_csv('/Users/bhuvaneshmarineni/Downloads/updated_rows_500_to_699.csv')\n",
    "# # Merge the CSV files into one DataFrame\n"
   ]
  },
  {
   "cell_type": "code",
   "execution_count": 93,
   "metadata": {},
   "outputs": [
    {
     "data": {
      "text/plain": [
       "Index(['Start Time', 'End Time', 'Subtitle', 'content_type', 'user_id',\n",
       "       'text_read'],\n",
       "      dtype='object')"
      ]
     },
     "execution_count": 93,
     "metadata": {},
     "output_type": "execute_result"
    }
   ],
   "source": [
    "\n",
    "file4.columns = file4.columns.str.strip()\n",
    "file4.columns"
   ]
  },
  {
   "cell_type": "code",
   "execution_count": 94,
   "metadata": {},
   "outputs": [
    {
     "data": {
      "text/plain": [
       "Index(['Start Time', 'End Time', 'Subtitle', 'content_type', 'user_id',\n",
       "       'text_read'],\n",
       "      dtype='object')"
      ]
     },
     "execution_count": 94,
     "metadata": {},
     "output_type": "execute_result"
    }
   ],
   "source": [
    "file5.columns"
   ]
  },
  {
   "cell_type": "code",
   "execution_count": 95,
   "metadata": {},
   "outputs": [
    {
     "data": {
      "text/plain": [
       "Index(['Start Time', 'End Time', 'Subtitle', 'content_type', 'user_id',\n",
       "       'text_read'],\n",
       "      dtype='object')"
      ]
     },
     "execution_count": 95,
     "metadata": {},
     "output_type": "execute_result"
    }
   ],
   "source": [
    "file6.columns"
   ]
  },
  {
   "cell_type": "code",
   "execution_count": 96,
   "metadata": {},
   "outputs": [
    {
     "data": {
      "text/plain": [
       "Index(['Start Time', 'End Time', 'Subtitle', 'content_type', 'user_id',\n",
       "       'text_read'],\n",
       "      dtype='object')"
      ]
     },
     "execution_count": 96,
     "metadata": {},
     "output_type": "execute_result"
    }
   ],
   "source": [
    "file3.columns"
   ]
  },
  {
   "cell_type": "code",
   "execution_count": 97,
   "metadata": {},
   "outputs": [
    {
     "data": {
      "text/plain": [
       "Index(['Start Time', 'End Time', 'Subtitle', 'content_type', 'user_id',\n",
       "       'text_read'],\n",
       "      dtype='object')"
      ]
     },
     "execution_count": 97,
     "metadata": {},
     "output_type": "execute_result"
    }
   ],
   "source": [
    "file1.columns"
   ]
  },
  {
   "cell_type": "code",
   "execution_count": 83,
   "metadata": {},
   "outputs": [
    {
     "data": {
      "text/plain": [
       "Index(['Start Time', 'End Time', 'Subtitle', 'content_type', 'user_id',\n",
       "       'text_read'],\n",
       "      dtype='object')"
      ]
     },
     "execution_count": 83,
     "metadata": {},
     "output_type": "execute_result"
    }
   ],
   "source": [
    "file2.columns"
   ]
  },
  {
   "cell_type": "code",
   "execution_count": 100,
   "metadata": {},
   "outputs": [],
   "source": [
    "merged_data = pd.concat([ file4, file5,file2,file3,file1,file6], ignore_index=True)\n",
    "\n",
    "# Write the merged data to a new CSV file\n",
    "merged_data.to_csv(\"new_merged_file.csv\", index=False)"
   ]
  },
  {
   "cell_type": "code",
   "execution_count": 101,
   "metadata": {},
   "outputs": [],
   "source": [
    "df = pd.read_csv('new_merged_file.csv')"
   ]
  },
  {
   "cell_type": "code",
   "execution_count": 102,
   "metadata": {},
   "outputs": [
    {
     "data": {
      "text/html": [
       "<div>\n",
       "<style scoped>\n",
       "    .dataframe tbody tr th:only-of-type {\n",
       "        vertical-align: middle;\n",
       "    }\n",
       "\n",
       "    .dataframe tbody tr th {\n",
       "        vertical-align: top;\n",
       "    }\n",
       "\n",
       "    .dataframe thead th {\n",
       "        text-align: right;\n",
       "    }\n",
       "</style>\n",
       "<table border=\"1\" class=\"dataframe\">\n",
       "  <thead>\n",
       "    <tr style=\"text-align: right;\">\n",
       "      <th></th>\n",
       "      <th>Start Time</th>\n",
       "      <th>End Time</th>\n",
       "      <th>Subtitle</th>\n",
       "      <th>content_type</th>\n",
       "      <th>user_id</th>\n",
       "      <th>text_read</th>\n",
       "    </tr>\n",
       "  </thead>\n",
       "  <tbody>\n",
       "    <tr>\n",
       "      <th>0</th>\n",
       "      <td>00:01:14:22</td>\n",
       "      <td>00:01:16:24</td>\n",
       "      <td>MURPH: Well, my dad was a farmer.</td>\n",
       "      <td>journal</td>\n",
       "      <td>11</td>\n",
       "      <td>A journal serves as a personal sanctuary for i...</td>\n",
       "    </tr>\n",
       "    <tr>\n",
       "      <th>1</th>\n",
       "      <td>00:01:18:04</td>\n",
       "      <td>00:01:20:15</td>\n",
       "      <td>Um, like everybody else back then.</td>\n",
       "      <td>Movies</td>\n",
       "      <td>6</td>\n",
       "      <td>The silver screen's captivating tapestry of mo...</td>\n",
       "    </tr>\n",
       "    <tr>\n",
       "      <th>2</th>\n",
       "      <td>00:01:22:18</td>\n",
       "      <td>00:01:24:22</td>\n",
       "      <td>Of course, he didn't start that way.</td>\n",
       "      <td>magazine</td>\n",
       "      <td>7</td>\n",
       "      <td>Magazines, as vibrant repositories of ideas, p...</td>\n",
       "    </tr>\n",
       "    <tr>\n",
       "      <th>3</th>\n",
       "      <td>00:01:25:12</td>\n",
       "      <td>00:01:27:11</td>\n",
       "      <td>(DISTANT RUMBLING)</td>\n",
       "      <td>newspaper</td>\n",
       "      <td>10</td>\n",
       "      <td>Newspapers, acting as versatile bastions of in...</td>\n",
       "    </tr>\n",
       "    <tr>\n",
       "      <th>4</th>\n",
       "      <td>00:01:30:00</td>\n",
       "      <td>00:01:31:01</td>\n",
       "      <td>(ALARM BEEPING)</td>\n",
       "      <td>Research Paper</td>\n",
       "      <td>11</td>\n",
       "      <td>Research papers serve as valuable contribution...</td>\n",
       "    </tr>\n",
       "    <tr>\n",
       "      <th>...</th>\n",
       "      <td>...</td>\n",
       "      <td>...</td>\n",
       "      <td>...</td>\n",
       "      <td>...</td>\n",
       "      <td>...</td>\n",
       "      <td>...</td>\n",
       "    </tr>\n",
       "    <tr>\n",
       "      <th>694</th>\n",
       "      <td>00:51:19:20</td>\n",
       "      <td>00:51:22:24</td>\n",
       "      <td>AMELIA: Uh, Wolf Edmunds is here. - Tell me ab...</td>\n",
       "      <td>journal</td>\n",
       "      <td>4</td>\n",
       "      <td>A journal serves as an introspective repositor...</td>\n",
       "    </tr>\n",
       "    <tr>\n",
       "      <th>695</th>\n",
       "      <td>00:51:23:20</td>\n",
       "      <td>00:51:26:14</td>\n",
       "      <td>Oh, uh, Wolf's a particle physicist.</td>\n",
       "      <td>e-commerce</td>\n",
       "      <td>11</td>\n",
       "      <td>E-commerce, encompassing the seamless exchange...</td>\n",
       "    </tr>\n",
       "    <tr>\n",
       "      <th>696</th>\n",
       "      <td>00:51:28:21</td>\n",
       "      <td>00:51:31:05</td>\n",
       "      <td>None of them had families, huh?</td>\n",
       "      <td>Movies</td>\n",
       "      <td>10</td>\n",
       "      <td>Movies, captivating visual narratives that tra...</td>\n",
       "    </tr>\n",
       "    <tr>\n",
       "      <th>697</th>\n",
       "      <td>00:51:32:06</td>\n",
       "      <td>00:51:35:03</td>\n",
       "      <td>No. No attachments. My father insisted.</td>\n",
       "      <td>magazine</td>\n",
       "      <td>13</td>\n",
       "      <td>Magazines offer a blend of current events, in-...</td>\n",
       "    </tr>\n",
       "    <tr>\n",
       "      <th>698</th>\n",
       "      <td>00:51:35:07</td>\n",
       "      <td>00:51:38:20</td>\n",
       "      <td>They all knew the odds against ever seeing ano...</td>\n",
       "      <td>Podcast</td>\n",
       "      <td>3</td>\n",
       "      <td>Podcasts, captivating audio journeys that conv...</td>\n",
       "    </tr>\n",
       "  </tbody>\n",
       "</table>\n",
       "<p>699 rows × 6 columns</p>\n",
       "</div>"
      ],
      "text/plain": [
       "      Start Time     End Time  \\\n",
       "0    00:01:14:22  00:01:16:24   \n",
       "1    00:01:18:04  00:01:20:15   \n",
       "2    00:01:22:18  00:01:24:22   \n",
       "3    00:01:25:12  00:01:27:11   \n",
       "4    00:01:30:00  00:01:31:01   \n",
       "..           ...          ...   \n",
       "694  00:51:19:20  00:51:22:24   \n",
       "695  00:51:23:20  00:51:26:14   \n",
       "696  00:51:28:21  00:51:31:05   \n",
       "697  00:51:32:06  00:51:35:03   \n",
       "698  00:51:35:07  00:51:38:20   \n",
       "\n",
       "                                              Subtitle    content_type  \\\n",
       "0                    MURPH: Well, my dad was a farmer.         journal   \n",
       "1                   Um, like everybody else back then.          Movies   \n",
       "2                 Of course, he didn't start that way.        magazine   \n",
       "3                                   (DISTANT RUMBLING)       newspaper   \n",
       "4                                      (ALARM BEEPING)  Research Paper   \n",
       "..                                                 ...             ...   \n",
       "694  AMELIA: Uh, Wolf Edmunds is here. - Tell me ab...         journal   \n",
       "695               Oh, uh, Wolf's a particle physicist.      e-commerce   \n",
       "696                    None of them had families, huh?          Movies   \n",
       "697            No. No attachments. My father insisted.        magazine   \n",
       "698  They all knew the odds against ever seeing ano...         Podcast   \n",
       "\n",
       "     user_id                                          text_read  \n",
       "0         11  A journal serves as a personal sanctuary for i...  \n",
       "1          6  The silver screen's captivating tapestry of mo...  \n",
       "2          7  Magazines, as vibrant repositories of ideas, p...  \n",
       "3         10  Newspapers, acting as versatile bastions of in...  \n",
       "4         11  Research papers serve as valuable contribution...  \n",
       "..       ...                                                ...  \n",
       "694        4  A journal serves as an introspective repositor...  \n",
       "695       11  E-commerce, encompassing the seamless exchange...  \n",
       "696       10  Movies, captivating visual narratives that tra...  \n",
       "697       13  Magazines offer a blend of current events, in-...  \n",
       "698        3  Podcasts, captivating audio journeys that conv...  \n",
       "\n",
       "[699 rows x 6 columns]"
      ]
     },
     "execution_count": 102,
     "metadata": {},
     "output_type": "execute_result"
    }
   ],
   "source": [
    "df"
   ]
  },
  {
   "cell_type": "code",
   "execution_count": 103,
   "metadata": {},
   "outputs": [
    {
     "data": {
      "text/plain": [
       "Index(['Start Time', 'End Time', 'content_type', 'user_id', 'text_read'], dtype='object')"
      ]
     },
     "execution_count": 103,
     "metadata": {},
     "output_type": "execute_result"
    }
   ],
   "source": [
    "df = df.drop('Subtitle', axis=1)\n",
    "df['user_id'] = pd.Series(2, index=df.index)\n",
    "df.columns\n"
   ]
  },
  {
   "cell_type": "code",
   "execution_count": 104,
   "metadata": {},
   "outputs": [
    {
     "name": "stdout",
     "output_type": "stream",
     "text": [
      "    Start Time  End Time    content_type  user_id  \\\n",
      "0     00:01:14  00:01:17         journal        2   \n",
      "1     00:01:18  00:01:20          Movies        2   \n",
      "2     00:01:22  00:01:24        magazine        2   \n",
      "3     00:01:25  00:01:27       newspaper        2   \n",
      "4     00:01:30  00:01:31  Research Paper        2   \n",
      "..         ...       ...             ...      ...   \n",
      "694   00:51:19  00:51:23         journal        2   \n",
      "695   00:51:23  00:51:26      e-commerce        2   \n",
      "696   00:51:28  00:51:31          Movies        2   \n",
      "697   00:51:32  00:51:35        magazine        2   \n",
      "698   00:51:35  00:51:38         Podcast        2   \n",
      "\n",
      "                                             text_read  \n",
      "0    A journal serves as a personal sanctuary for i...  \n",
      "1    The silver screen's captivating tapestry of mo...  \n",
      "2    Magazines, as vibrant repositories of ideas, p...  \n",
      "3    Newspapers, acting as versatile bastions of in...  \n",
      "4    Research papers serve as valuable contribution...  \n",
      "..                                                 ...  \n",
      "694  A journal serves as an introspective repositor...  \n",
      "695  E-commerce, encompassing the seamless exchange...  \n",
      "696  Movies, captivating visual narratives that tra...  \n",
      "697  Magazines offer a blend of current events, in-...  \n",
      "698  Podcasts, captivating audio journeys that conv...  \n",
      "\n",
      "[699 rows x 5 columns]\n"
     ]
    }
   ],
   "source": [
    "# import pandas as pd\n",
    "\n",
    "# Sample data loading (replace this with your actual data loading method)\n",
    "# Your data might be loaded here\n",
    "\n",
    "# Define a function to convert HH:MM:SS:FF to HH:MM:SS\n",
    "def convert_time(time_str):\n",
    "    hh, mm, ss, ff = time_str.split(':')\n",
    "    # Assuming 24 frames per second\n",
    "    frame_rate = 24\n",
    "    additional_seconds = int(ff) / frame_rate\n",
    "    total_seconds = int(hh) * 3600 + int(mm) * 60 + int(ss) + additional_seconds\n",
    "    new_hh = int(total_seconds // 3600)\n",
    "    new_mm = int((total_seconds % 3600) // 60)\n",
    "    new_ss = int(total_seconds % 60)\n",
    "    return f\"{new_hh:02}:{new_mm:02}:{new_ss:02}\"\n",
    "\n",
    "# Apply the conversion function to the ' Start Time' and 'End Time' columns\n",
    "# Note the space before 'Start Time'\n",
    "df['Start Time'] = df['Start Time'].apply(convert_time)\n",
    "df['End Time'] = df['End Time'].apply(convert_time)\n",
    "\n",
    "# Display the updated DataFrame\n",
    "print(df)\n"
   ]
  },
  {
   "cell_type": "code",
   "execution_count": 106,
   "metadata": {},
   "outputs": [],
   "source": [
    "df.to_csv('new_merged_file.csv',index=False)"
   ]
  }
 ],
 "metadata": {
  "kernelspec": {
   "display_name": "Python 3",
   "language": "python",
   "name": "python3"
  },
  "language_info": {
   "codemirror_mode": {
    "name": "ipython",
    "version": 3
   },
   "file_extension": ".py",
   "mimetype": "text/x-python",
   "name": "python",
   "nbconvert_exporter": "python",
   "pygments_lexer": "ipython3",
   "version": "3.9.6"
  },
  "orig_nbformat": 4
 },
 "nbformat": 4,
 "nbformat_minor": 2
}
